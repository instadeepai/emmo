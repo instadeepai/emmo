{
 "cells": [
  {
   "cell_type": "code",
   "execution_count": null,
   "metadata": {},
   "outputs": [],
   "source": [
    "%load_ext autoreload\n",
    "%autoreload 2"
   ]
  },
  {
   "cell_type": "code",
   "execution_count": null,
   "metadata": {},
   "outputs": [],
   "source": [
    "from pathlib import Path\n",
    "\n",
    "import numpy as np\n",
    "import pandas as pd\n",
    "import matplotlib.pyplot as plt\n",
    "\n",
    "from emmo.models.prediction import PredictorMHC2\n",
    "from emmo.models.cleavage import CleavageModel\n",
    "from emmo.utils.viz import plot_cleavage_model"
   ]
  },
  {
   "cell_type": "code",
   "execution_count": null,
   "metadata": {},
   "outputs": [],
   "source": [
    "model_path = Path().absolute().parent / 'models'\n",
    "model_path.mkdir(parents=True, exist_ok=True)"
   ]
  },
  {
   "attachments": {},
   "cell_type": "markdown",
   "metadata": {},
   "source": [
    "## Cleavage model"
   ]
  },
  {
   "cell_type": "code",
   "execution_count": null,
   "metadata": {},
   "outputs": [],
   "source": [
    "cleavage_n_terminus = Path('/mnt/bfx/user_folders/david.schaller/PWM_EM/mhc2/cleavage/N-terminus/clusters3')\n",
    "cleavage_c_terminus = Path('/mnt/bfx/user_folders/david.schaller/PWM_EM/mhc2/cleavage/C-terminus/clusters3')\n",
    "\n",
    "cleavage_model_path = model_path / 'cleavage' / 'cleavage_MHCII_3N_3C_20230310'\n",
    "\n",
    "cleavage_model = CleavageModel.load_from_separate_models(\n",
    "    cleavage_n_terminus,\n",
    "    cleavage_c_terminus,\n",
    ")\n",
    "\n",
    "# check if saving and reloading with method load() works\n",
    "cleavage_model.save(cleavage_model_path)\n",
    "cleavage_model = CleavageModel.load(cleavage_model_path)"
   ]
  },
  {
   "cell_type": "code",
   "execution_count": null,
   "metadata": {},
   "outputs": [],
   "source": [
    "plot_cleavage_model(cleavage_model)"
   ]
  },
  {
   "attachments": {},
   "cell_type": "markdown",
   "metadata": {},
   "source": [
    "## Load the models for the alleles"
   ]
  },
  {
   "cell_type": "code",
   "execution_count": null,
   "metadata": {},
   "outputs": [],
   "source": [
    "peptides_path = Path('/mnt/bfx/user_folders/david.schaller/PWM_EM/mhc2/sorted_peptides/')\n",
    "deconvolution_results_path = Path('/mnt/bfx/user_folders/david.schaller/PWM_EM/mhc2/models_EMMo/')"
   ]
  },
  {
   "cell_type": "code",
   "execution_count": null,
   "metadata": {},
   "outputs": [],
   "source": [
    "# maps allele to (model path, k, i) where\n",
    "# k determines which subfolder to use (run with k classes) and\n",
    "# i determines which motif to use from this subfolder (motif i)\n",
    "selected_models = {}\n",
    "\n",
    "for folder in deconvolution_results_path.iterdir():\n",
    "    if folder.is_dir():\n",
    "        allele = folder.stem\n",
    "        selected_models[allele] = (folder, 1, 1)\n",
    "\n",
    "# manually correct the motifs that seem to be off by visual inspection\n",
    "selected_models['DRB11501-DRA0101'] = (selected_models['DRB11501-DRA0101'][0], 2, 2)\n",
    "selected_models['DRB11502-DRA0101'] = (selected_models['DRB11502-DRA0101'][0], 2, 1)\n",
    "\n",
    "print(len(selected_models))"
   ]
  },
  {
   "cell_type": "code",
   "execution_count": null,
   "metadata": {},
   "outputs": [],
   "source": [
    "for output_dir, recompute in zip(['mhc2_msdb_2020_nests_train_tune_ppm_direct_20230522', \n",
    "                                  'mhc2_msdb_2020_nests_train_tune_ppm_recomputed_20230522'],\n",
    "                                 [False, True]):\n",
    "\n",
    "    predictor = PredictorMHC2.compile_from_selected_models(\n",
    "        selected_models,\n",
    "        cleavage_model_path,\n",
    "        peptides_path,\n",
    "        motif_length=9,\n",
    "        length_distribution='MHC2_biondeep',\n",
    "        recompute_PPMs_from_best_responsibility=recompute,  # <-- enable/disable PPM recomputation\n",
    "    )\n",
    "\n",
    "    available_alleles = set(predictor.PPMs.keys())\n",
    "\n",
    "    print('Available for scoring:', len(available_alleles))\n",
    "\n",
    "    predictor.save(model_path / 'binding-predictor' / output_dir, force=True)"
   ]
  },
  {
   "attachments": {},
   "cell_type": "markdown",
   "metadata": {},
   "source": [
    "### Plot the offset weights"
   ]
  },
  {
   "cell_type": "code",
   "execution_count": null,
   "metadata": {},
   "outputs": [],
   "source": [
    "offset_weights = predictor.offset_weights\n",
    "\n",
    "offset_weights /= np.sum(offset_weights)\n",
    "\n",
    "max_offset = len(offset_weights) // 2\n",
    "x = np.arange(-max_offset, max_offset + 1)\n",
    "\n",
    "plt.bar(x, offset_weights)"
   ]
  },
  {
   "cell_type": "code",
   "execution_count": null,
   "metadata": {},
   "outputs": [],
   "source": []
  }
 ],
 "metadata": {
  "kernelspec": {
   "display_name": "base",
   "language": "python",
   "name": "python3"
  },
  "language_info": {
   "codemirror_mode": {
    "name": "ipython",
    "version": 3
   },
   "file_extension": ".py",
   "mimetype": "text/x-python",
   "name": "python",
   "nbconvert_exporter": "python",
   "pygments_lexer": "ipython3",
   "version": "3.10.12"
  }
 },
 "nbformat": 4,
 "nbformat_minor": 2
}
