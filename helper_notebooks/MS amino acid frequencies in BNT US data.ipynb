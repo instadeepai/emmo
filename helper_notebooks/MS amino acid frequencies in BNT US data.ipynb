{
 "cells": [
  {
   "cell_type": "code",
   "execution_count": null,
   "id": "5b1bc071",
   "metadata": {},
   "outputs": [],
   "source": [
    "import numpy as np\n",
    "from pathlib import Path"
   ]
  },
  {
   "cell_type": "code",
   "execution_count": null,
   "id": "e8f62af8",
   "metadata": {},
   "outputs": [],
   "source": [
    "AAs = ['A', 'C', 'D', 'E', 'F', 'G', 'H', 'I', 'K', 'L',\n",
    "       'M', 'N', 'P', 'Q', 'R', 'S', 'T', 'V', 'W', 'Y',]\n",
    "\n",
    "aa_index = {a: i for i, a in enumerate(AAs)}\n",
    "aa_index"
   ]
  },
  {
   "cell_type": "code",
   "execution_count": null,
   "id": "6919f566",
   "metadata": {},
   "outputs": [],
   "source": [
    "import gzip\n",
    "\n",
    "def _iterate_lines(file_handle, aa_index):\n",
    "    \n",
    "    counts = np.zeros(len(aa_index), dtype=np.float64)\n",
    "    \n",
    "    header = True\n",
    "    rows_in_total = 0\n",
    "    hits_in_total = 0\n",
    "    \n",
    "    for line in file_handle:\n",
    "        line = line.strip().split(',')\n",
    "\n",
    "        if header:\n",
    "            header = False\n",
    "            peptide_at = line.index('peptide')\n",
    "            if 'binder' in line:\n",
    "                binder_at = line.index('binder')\n",
    "            elif 'hit' in line:\n",
    "                binder_at = line.index('hit')\n",
    "            else:\n",
    "                raise ValueError('could not identify bider/hit column')\n",
    "            continue\n",
    "        else:\n",
    "            rows_in_total += 1\n",
    "\n",
    "        if line[binder_at] == '1': # i.e. if hit\n",
    "            peptide = line[peptide_at]\n",
    "            hits_in_total += 1\n",
    "            for a in peptide:\n",
    "                counts[aa_index[a]] += 1\n",
    "    \n",
    "    print(rows_in_total, hits_in_total)\n",
    "    \n",
    "    return counts\n",
    "    \n",
    "\n",
    "def count_AAs(input_file, aa_index):\n",
    "    \n",
    "    if str(input_file).endswith('.gz') or str(input_file).endswith('.gzip'):\n",
    "        with gzip.open(input_file, 'rt') as f:\n",
    "            return _iterate_lines(f, aa_index)\n",
    "    else:\n",
    "        with open(input_file, 'r') as f:\n",
    "            return _iterate_lines(f, aa_index)"
   ]
  },
  {
   "cell_type": "markdown",
   "id": "09d4685a",
   "metadata": {},
   "source": [
    "## MHC class I"
   ]
  },
  {
   "cell_type": "code",
   "execution_count": null,
   "id": "3cbbde3d",
   "metadata": {},
   "outputs": [],
   "source": [
    "dataset_path = Path('/mnt/bfx/bfx_RD/Instadeep/cloud_backup/biondeep-data/datasets/mhc1/binding/MSDF_20200604/')\n",
    "\n",
    "counts_train = count_AAs(dataset_path / 'MSDF_20200604_w_fixed_A0211_dedup.train.csv.gz', aa_index)\n",
    "print(counts_train)\n",
    "\n",
    "counts_tune = count_AAs(dataset_path / 'MSDF_20200604_w_fixed_A0211_dedup.tune.csv.gz', aa_index)\n",
    "print(counts_tune)\n",
    "\n",
    "counts_test = count_AAs(dataset_path / 'MSDF_20200604_w_fixed_A0211_dedup.test.csv.gz', aa_index)\n",
    "print(counts_test)\n",
    "\n",
    "counts = counts_train + counts_tune + counts_test\n",
    "print(counts)"
   ]
  },
  {
   "cell_type": "code",
   "execution_count": null,
   "id": "9ec4fb33",
   "metadata": {},
   "outputs": [],
   "source": [
    "frequencies = counts / np.sum(counts)\n",
    "frequencies"
   ]
  },
  {
   "cell_type": "code",
   "execution_count": null,
   "id": "8a799748",
   "metadata": {},
   "outputs": [],
   "source": [
    "print('background_MS_data = {')\n",
    "for a in AAs:\n",
    "    print(f\"    '{a}': {frequencies[aa_index[a]]:.6f},\")\n",
    "print('    }')"
   ]
  },
  {
   "cell_type": "markdown",
   "id": "886d43c9",
   "metadata": {},
   "source": [
    "## MHC class II"
   ]
  },
  {
   "cell_type": "code",
   "execution_count": null,
   "id": "7831153a",
   "metadata": {},
   "outputs": [],
   "source": [
    "dataset_path = Path('/mnt/bfx/bfx_RD/Instadeep/cloud_backup/biondeep-data/datasets/mhc2/binding/')\n",
    "\n",
    "counts_train = count_AAs(dataset_path / 'train_drop_1to19.csv', aa_index)\n",
    "print(counts_train)\n",
    "\n",
    "counts_tune = count_AAs(dataset_path / 'tune_1to19.csv', aa_index)\n",
    "print(counts_tune)\n",
    "\n",
    "counts_test = count_AAs(dataset_path / 'test_scored_1to19.csv', aa_index)\n",
    "print(counts_test)\n",
    "\n",
    "counts = counts_train + counts_tune + counts_test\n",
    "print(counts)"
   ]
  },
  {
   "cell_type": "code",
   "execution_count": null,
   "id": "1c258757",
   "metadata": {},
   "outputs": [],
   "source": [
    "frequencies = counts / np.sum(counts)\n",
    "frequencies"
   ]
  },
  {
   "cell_type": "code",
   "execution_count": null,
   "id": "7ce368d7",
   "metadata": {},
   "outputs": [],
   "source": [
    "print('background_MS_data = {')\n",
    "for a in AAs:\n",
    "    print(f\"    '{a}': {frequencies[aa_index[a]]:.6f},\")\n",
    "print('    }')"
   ]
  },
  {
   "cell_type": "code",
   "execution_count": null,
   "id": "e7d47044",
   "metadata": {},
   "outputs": [],
   "source": []
  }
 ],
 "metadata": {
  "kernelspec": {
   "display_name": "Python 3 (ipykernel)",
   "language": "python",
   "name": "python3"
  },
  "language_info": {
   "codemirror_mode": {
    "name": "ipython",
    "version": 3
   },
   "file_extension": ".py",
   "mimetype": "text/x-python",
   "name": "python",
   "nbconvert_exporter": "python",
   "pygments_lexer": "ipython3",
   "version": "3.10.12"
  }
 },
 "nbformat": 4,
 "nbformat_minor": 5
}
