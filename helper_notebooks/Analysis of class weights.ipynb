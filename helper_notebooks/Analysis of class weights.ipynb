{
 "cells": [
  {
   "cell_type": "code",
   "execution_count": null,
   "id": "1cbdfec9",
   "metadata": {},
   "outputs": [],
   "source": [
    "from pathlib import Path\n",
    "\n",
    "import numpy as np\n",
    "import matplotlib.pyplot as plt\n",
    "\n",
    "from emmo.models.deconvolution import DeconvolutionModelMHC2"
   ]
  },
  {
   "cell_type": "code",
   "execution_count": null,
   "id": "ab89095f",
   "metadata": {},
   "outputs": [],
   "source": [
    "directory = Path().absolute().parent / 'validation' / 'local'\n",
    "\n",
    "model = DeconvolutionModelMHC2.load(directory / 'HLA-A0101_A0218_background_class_II')"
   ]
  },
  {
   "cell_type": "code",
   "execution_count": null,
   "id": "6697d34b",
   "metadata": {},
   "outputs": [],
   "source": [
    "print(model)\n",
    "print(model.class_weights)"
   ]
  },
  {
   "cell_type": "code",
   "execution_count": null,
   "id": "09596475",
   "metadata": {},
   "outputs": [],
   "source": [
    "plt.bar(model.aligned_offsets.get_offset_annotation(),\n",
    "        model.class_weights[0])"
   ]
  },
  {
   "cell_type": "code",
   "execution_count": null,
   "id": "9c753458",
   "metadata": {},
   "outputs": [],
   "source": []
  }
 ],
 "metadata": {
  "kernelspec": {
   "display_name": "Python 3 (ipykernel)",
   "language": "python",
   "name": "python3"
  },
  "language_info": {
   "codemirror_mode": {
    "name": "ipython",
    "version": 3
   },
   "file_extension": ".py",
   "mimetype": "text/x-python",
   "name": "python",
   "nbconvert_exporter": "python",
   "pygments_lexer": "ipython3",
   "version": "3.10.12"
  }
 },
 "nbformat": 4,
 "nbformat_minor": 5
}
