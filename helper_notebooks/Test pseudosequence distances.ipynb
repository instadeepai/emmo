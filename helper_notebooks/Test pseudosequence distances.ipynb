{
 "cells": [
  {
   "cell_type": "code",
   "execution_count": null,
   "metadata": {},
   "outputs": [],
   "source": [
    "import numpy as np\n",
    "import matplotlib.pyplot as plt\n",
    "\n",
    "from emmo.constants import MODEL_DIRECTORY\n",
    "from emmo.models.prediction import PredictorMHC2\n",
    "from emmo.utils.sequence_distance import pairwise_blosum62_scores, nearest_neighbors"
   ]
  },
  {
   "cell_type": "code",
   "execution_count": null,
   "metadata": {},
   "outputs": [],
   "source": [
    "model_path = MODEL_DIRECTORY / 'binding-predictor' / 'mhc2_msdb_2020_full_train_tune_ppm_direct_20230718'\n",
    "model_path"
   ]
  },
  {
   "cell_type": "code",
   "execution_count": null,
   "metadata": {},
   "outputs": [],
   "source": [
    "predictor = PredictorMHC2.load(model_path)\n",
    "available_alleles = sorted([a for a in predictor.ppms])\n",
    "available_alleles"
   ]
  },
  {
   "cell_type": "markdown",
   "metadata": {},
   "source": [
    "## Plot pairwise BLOSUM62 scores for available alleles"
   ]
  },
  {
   "cell_type": "code",
   "execution_count": null,
   "metadata": {},
   "outputs": [],
   "source": [
    "scores = pairwise_blosum62_scores(available_alleles, 'II')"
   ]
  },
  {
   "cell_type": "code",
   "execution_count": null,
   "metadata": {},
   "outputs": [],
   "source": [
    "fig, ax = plt.subplots(figsize=(30, 30))\n",
    "im = ax.imshow(scores)\n",
    "\n",
    "# Show all ticks and label them with the respective list entries\n",
    "ax.set_xticks(np.arange(len(available_alleles)), labels=available_alleles)\n",
    "ax.set_yticks(np.arange(len(available_alleles)), labels=available_alleles)\n",
    "\n",
    "# Rotate the tick labels and set their alignment.\n",
    "plt.setp(\n",
    "    ax.get_xticklabels(),\n",
    "    rotation=90,\n",
    "    ha='right',\n",
    "    rotation_mode='anchor'\n",
    ")\n",
    "\n",
    "# Loop over data dimensions and create text annotations.\n",
    "for i in range(len(available_alleles)):\n",
    "    for j in range(len(available_alleles)):\n",
    "        text = ax.text(\n",
    "            j, i,\n",
    "            scores[i, j],\n",
    "            ha='center',\n",
    "            va='center',\n",
    "            color='w'\n",
    "        )\n",
    "\n",
    "ax.set_title('Pairwise BLOSUM62 scores')\n",
    "fig.tight_layout()\n",
    "plt.show()"
   ]
  },
  {
   "cell_type": "markdown",
   "metadata": {},
   "source": [
    "## Test the nearest neighbors function"
   ]
  },
  {
   "cell_type": "code",
   "execution_count": null,
   "metadata": {},
   "outputs": [],
   "source": [
    "# DRB4*01:01 and DRB4*0103 differ by one amino acid which does not affect \n",
    "# the peptide binding groove. NetMHCIIpan is also using the same model to \n",
    "# score both alleles since it encodes both alleles with the same pseudo\n",
    "# sequence (Karosiene, 2013).\n",
    "unknown_alleles = ['DRB40101-DRA0101']\n",
    "\n",
    "# the two alleles from the NetMHCIIpan CD4 epitope set that have not been \n",
    "# seen during training are DRB10103-DRA0101 and the already mentioned \n",
    "# allele DRB40101-DRA0101\n",
    "unknown_alleles.append('DRB10103-DRA0101')\n",
    "\n",
    "nearest_neighbors(available_alleles, unknown_alleles, 'II')"
   ]
  },
  {
   "cell_type": "code",
   "execution_count": null,
   "metadata": {},
   "outputs": [],
   "source": []
  }
 ],
 "metadata": {
  "kernelspec": {
   "display_name": "py10",
   "language": "python",
   "name": "python3"
  },
  "language_info": {
   "codemirror_mode": {
    "name": "ipython",
    "version": 3
   },
   "file_extension": ".py",
   "mimetype": "text/x-python",
   "name": "python",
   "nbconvert_exporter": "python",
   "pygments_lexer": "ipython3",
   "version": "3.10.12"
  }
 },
 "nbformat": 4,
 "nbformat_minor": 2
}
