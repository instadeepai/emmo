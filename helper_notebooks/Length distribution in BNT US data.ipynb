{
 "cells": [
  {
   "cell_type": "code",
   "execution_count": null,
   "id": "5b1bc071",
   "metadata": {},
   "outputs": [],
   "source": [
    "import numpy as np\n",
    "from pathlib import Path"
   ]
  },
  {
   "cell_type": "code",
   "execution_count": null,
   "id": "6919f566",
   "metadata": {},
   "outputs": [],
   "source": [
    "import gzip\n",
    "\n",
    "def _iterate_lines(file_handle):\n",
    "    \n",
    "    counts = {}\n",
    "    \n",
    "    header = True\n",
    "    for line in file_handle:\n",
    "        line = line.strip().split(',')\n",
    "\n",
    "        if header:\n",
    "            header = False\n",
    "            peptide_at = line.index('peptide')\n",
    "            if 'binder' in line:\n",
    "                binder_at = line.index('binder')\n",
    "            elif 'hit' in line:\n",
    "                binder_at = line.index('hit')\n",
    "            else:\n",
    "                raise ValueError('could not identify bider/hit column')\n",
    "            continue\n",
    "\n",
    "        if line[binder_at] == '1': # i.e. if hit\n",
    "            length = len(line[peptide_at])\n",
    "            counts[length] = counts.get(length, 0) + 1\n",
    "    \n",
    "    return counts\n",
    "    \n",
    "\n",
    "def count_AAs(input_file):\n",
    "    \n",
    "    if str(input_file).endswith('.gz') or str(input_file).endswith('.gzip'):\n",
    "        with gzip.open(input_file, 'rt') as f:\n",
    "            return _iterate_lines(f)\n",
    "    else:\n",
    "        with open(input_file, 'r') as f:\n",
    "            return _iterate_lines(f)\n",
    "\n",
    "\n",
    "def combine_counts(*count_dicts):\n",
    "    \n",
    "    counts = {}\n",
    "    \n",
    "    for counts_i in count_dicts:\n",
    "        for length, value in counts_i.items():\n",
    "            counts[length] = counts.get(length, 0) + value\n",
    "            \n",
    "    return counts\n",
    "\n",
    "\n",
    "def to_frequencies(counts):\n",
    "    \n",
    "    # add a pseudocount of 1 for each value in the range\n",
    "    counts = {length: counts.get(length, 0) + 1 \n",
    "              for length in range(min(counts), max(counts) + 1)}\n",
    "    \n",
    "    total_counts = sum(x for x in counts.values())\n",
    "    \n",
    "    return {length: x / total_counts for length, x in counts.items()}\n",
    "\n",
    "\n",
    "def print_formatted(frequencies):\n",
    "    \n",
    "    print('length_distribution_MS_data = {')\n",
    "    for length in sorted(frequencies):\n",
    "        print(f\"     {length}: {frequencies[length]:.8f},\")\n",
    "    print('    }')"
   ]
  },
  {
   "cell_type": "markdown",
   "id": "09d4685a",
   "metadata": {},
   "source": [
    "## MHC class I"
   ]
  },
  {
   "cell_type": "code",
   "execution_count": null,
   "id": "3cbbde3d",
   "metadata": {},
   "outputs": [],
   "source": [
    "dataset_path = Path('/mnt/bfx/bfx_RD/Instadeep/cloud_backup/biondeep-data/datasets/mhc1/binding/MSDF_20200604/')\n",
    "\n",
    "counts_train = count_AAs(dataset_path / 'MSDF_20200604_w_fixed_A0211_dedup.train.csv.gz')\n",
    "print(counts_train)\n",
    "\n",
    "counts_tune = count_AAs(dataset_path / 'MSDF_20200604_w_fixed_A0211_dedup.tune.csv.gz')\n",
    "print(counts_tune)\n",
    "\n",
    "counts_test = count_AAs(dataset_path / 'MSDF_20200604_w_fixed_A0211_dedup.test.csv.gz')\n",
    "print(counts_test)\n",
    "\n",
    "counts = combine_counts(counts_tune, counts_train, counts_test)\n",
    "print(counts)"
   ]
  },
  {
   "cell_type": "code",
   "execution_count": null,
   "id": "9ec4fb33",
   "metadata": {},
   "outputs": [],
   "source": [
    "# relative frequencies in train + tune partition\n",
    "counts = combine_counts(counts_tune, counts_train)\n",
    "frequencies = to_frequencies(counts)\n",
    "print_formatted(frequencies)"
   ]
  },
  {
   "cell_type": "markdown",
   "id": "886d43c9",
   "metadata": {},
   "source": [
    "## MHC class II"
   ]
  },
  {
   "cell_type": "code",
   "execution_count": null,
   "id": "7831153a",
   "metadata": {},
   "outputs": [],
   "source": [
    "dataset_path = Path('/mnt/bfx/bfx_RD/Instadeep/cloud_backup/biondeep-data/datasets/mhc2/binding/')\n",
    "\n",
    "counts_train = count_AAs(dataset_path / 'train_drop_1to19.csv')\n",
    "print(counts_train)\n",
    "\n",
    "counts_tune = count_AAs(dataset_path / 'tune_1to19.csv')\n",
    "print(counts_tune)\n",
    "\n",
    "counts_test = count_AAs(dataset_path / 'test_scored_1to19.csv')\n",
    "print(counts_test)\n",
    "\n",
    "counts = combine_counts(counts_tune, counts_train, counts_test)\n",
    "print(counts)"
   ]
  },
  {
   "cell_type": "code",
   "execution_count": null,
   "id": "1c258757",
   "metadata": {},
   "outputs": [],
   "source": [
    "# relative frequencies in train + tune partition\n",
    "counts = combine_counts(counts_tune, counts_train)\n",
    "frequencies = to_frequencies(counts)\n",
    "print_formatted(frequencies)"
   ]
  },
  {
   "cell_type": "code",
   "execution_count": null,
   "id": "e7d47044",
   "metadata": {},
   "outputs": [],
   "source": []
  }
 ],
 "metadata": {
  "kernelspec": {
   "display_name": "Python 3 (ipykernel)",
   "language": "python",
   "name": "python3"
  },
  "language_info": {
   "codemirror_mode": {
    "name": "ipython",
    "version": 3
   },
   "file_extension": ".py",
   "mimetype": "text/x-python",
   "name": "python",
   "nbconvert_exporter": "python",
   "pygments_lexer": "ipython3",
   "version": "3.9.12"
  }
 },
 "nbformat": 4,
 "nbformat_minor": 5
}
